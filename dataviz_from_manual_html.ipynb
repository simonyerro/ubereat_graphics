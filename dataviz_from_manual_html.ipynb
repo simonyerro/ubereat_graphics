{
 "cells": [
  {
   "cell_type": "code",
   "execution_count": 22,
   "metadata": {},
   "outputs": [],
   "source": [
    "import requests\n",
    "from bs4 import BeautifulSoup\n",
    "import pandas as pd \n",
    "import numpy as np\n",
    "import datetime\n",
    "import dateparser\n",
    "import matplotlib\n",
    "import matplotlib.pyplot as plt"
   ]
  },
  {
   "cell_type": "code",
   "execution_count": 23,
   "metadata": {},
   "outputs": [
    {
     "name": "stdout",
     "output_type": "stream",
     "text": [
      "nb de commandes: 69\n"
     ]
    }
   ],
   "source": [
    "with open(r'ubereat.html', \"r\") as f:\n",
    "    page = f.read()\n",
    "soup = BeautifulSoup(page)\n",
    "commandes = soup.find(\"div\", {\"class\": \"ce cf cg c8 ch\"})\n",
    "tab_commandes = commandes.find_all(\"div\", {\"class\": \"g6\"})\n",
    "print(\"nb de commandes: \" + str(len(tab_commandes)))"
   ]
  },
  {
   "cell_type": "code",
   "execution_count": 35,
   "metadata": {},
   "outputs": [
    {
     "name": "stdout",
     "output_type": "stream",
     "text": [
      "28 janv. à 13:12\n",
      "21 janv. à 20:25\n",
      "18 janv. à 19:35\n",
      "13 janv. à 13:52\n",
      "31 déc. à 21:29\n",
      "30 déc. à 12:54\n",
      "23 déc. à 13:10\n",
      "21 déc. à 23:02\n",
      "20 déc. à 20:51\n",
      "18 déc. à 23:19\n",
      "13 déc. à 12:34\n",
      "11 déc. à 12:18\n",
      "02 déc. à 14:15\n",
      "26 nov. à 12:30\n",
      "12 nov. à 21:01\n",
      "03 nov. à 15:06\n",
      "31 oct. à 22:09\n",
      "30 oct. à 22:48\n",
      "Annulée le 30 oct. à 22:16\n",
      "24 oct. à 23:20\n",
      "14 oct. à 22:19\n",
      "10 oct. à 23:26\n",
      "03 oct. à 22:32\n",
      "27 sept. à 20:35\n",
      "26 sept. à 00:47\n",
      "19 sept. à 22:53\n",
      "15 sept. à 00:34\n",
      "13 sept. à 22:50\n",
      "07 sept. à 14:03\n",
      "02 sept. à 20:31\n",
      "26 août à 17:06\n",
      "23 août à 16:34\n",
      "19 août à 16:54\n",
      "16 août à 21:12\n",
      "13 août à 22:18\n",
      "11 août à 15:10\n",
      "08 août à 14:27\n",
      "03 août à 17:06\n",
      "29 juil. à 12:29\n",
      "22 juil. à 21:40\n",
      "20 juil. à 14:45\n",
      "15 juil. à 16:47\n",
      "03 juil. à 22:46\n",
      "01 juil. à 22:26\n",
      "29 juin à 13:58\n",
      "17 juin à 15:37\n",
      "11 juin à 13:00\n",
      "03 juin à 14:09\n",
      "22 mai à 23:29\n",
      "19 mai à 22:35\n",
      "15 mai à 12:50\n",
      "11 mai à 22:47\n",
      "29 avr. à 22:32\n",
      "22 avr. à 22:32\n",
      "16 avr. à 22:01\n",
      "15 avr. à 21:35\n",
      "11 avr. à 22:56\n",
      "02 avr. à 21:42\n",
      "31 mars à 21:22\n",
      "30 mars à 23:28\n",
      "28 mars à 16:08\n",
      "25 mars à 20:16\n",
      "20 mars à 22:10\n",
      "14 mars à 22:59\n",
      "13 mars à 23:23\n",
      "07 mars à 22:38\n",
      "02 mars à 21:04\n",
      "27 déc. à 16:47\n",
      "10 déc. à 16:15\n"
     ]
    }
   ],
   "source": [
    "vals = {\"resto\": [], \"prix\": [], \"datetime\": []}\n",
    "(current, previous, year) = (\"\", \"\", 2021)\n",
    "for obj in tab_commandes:\n",
    "    val = obj.find(\"div\", {\"class\": \"cs f5 bv d7\"}).get_text(strip=True).split(\"•\")\n",
    "    date_et_heure = val[1].replace(u'\\xa0', u' ')\n",
    "    print(date_et_heure)\n",
    "    if \"Annulée le\" in date_et_heure:\n",
    "        continue\n",
    "    (date, heure) = date_et_heure.split(\" à \")\n",
    "    current = date\n",
    "    (heure, minute) = heure.split(\":\")\n",
    "    vals[\"resto\"].append(obj.find(\"div\", {\"class\": \"ag bh f2 g9\"}).get_text())\n",
    "    prix = float(val[0].split(\"pour\")[-1].split(\"€\")[0].strip().replace(\",\", \".\"))\n",
    "    if current and previous and \"déc.\" in current and \"janv.\" in previous:\n",
    "        year -= 1\n",
    "    previous = current\n",
    "    parsed_date = dateparser.parse(date + \" \" + str(year))\n",
    "    time = datetime.time(int(heure), int(minute))\n",
    "    vals[\"datetime\"].append(parsed_date.combine(parsed_date, time, tzinfo=None))\n",
    "    vals[\"prix\"].append(prix)"
   ]
  },
  {
   "cell_type": "code",
   "execution_count": 32,
   "metadata": {},
   "outputs": [
    {
     "data": {
      "text/plain": [
       "datetime.datetime(2010, 12, 10, 0, 0)"
      ]
     },
     "execution_count": 32,
     "metadata": {},
     "output_type": "execute_result"
    }
   ],
   "source": [
    "dateparser.parse(\"10 déc. 2010\")"
   ]
  },
  {
   "cell_type": "code",
   "execution_count": 34,
   "metadata": {},
   "outputs": [
    {
     "name": "stdout",
     "output_type": "stream",
     "text": [
      "bonjour\n"
     ]
    }
   ],
   "source": [
    "current = \"a\"\n",
    "if current:\n",
    "    print(\"bonjour\")"
   ]
  },
  {
   "cell_type": "code",
   "execution_count": 36,
   "metadata": {},
   "outputs": [
    {
     "data": {
      "text/plain": [
       "'10 déc.'"
      ]
     },
     "execution_count": 36,
     "metadata": {},
     "output_type": "execute_result"
    }
   ],
   "source": [
    "date"
   ]
  },
  {
   "cell_type": "code",
   "execution_count": 37,
   "metadata": {},
   "outputs": [],
   "source": [
    "data = {\n",
    "    \"resto\": vals[\"resto\"],\n",
    "    \"datetime\": vals[\"datetime\"],\n",
    "    \"prix\": vals[\"prix\"]\n",
    "}\n",
    "df = pd.DataFrame(data)"
   ]
  },
  {
   "cell_type": "code",
   "execution_count": 6,
   "metadata": {},
   "outputs": [
    {
     "name": "stdout",
     "output_type": "stream",
     "text": [
      "somme:  1278.4800000000002\n",
      "moyenne:  18.80117647058824\n"
     ]
    }
   ],
   "source": [
    "print(\"somme: \", df[\"prix\"].sum())\n",
    "print(\"moyenne: \", df[\"prix\"].mean())"
   ]
  },
  {
   "cell_type": "code",
   "execution_count": 7,
   "metadata": {},
   "outputs": [],
   "source": []
  },
  {
   "cell_type": "code",
   "execution_count": 52,
   "metadata": {},
   "outputs": [
    {
     "data": {
      "image/png": "[encoded data removed]",
      "text/plain": [
       "<Figure size 432x288 with 1 Axes>"
      ]
     },
     "metadata": {
      "needs_background": "light"
     },
     "output_type": "display_data"
    }
   ],
   "source": [
    "x = df[\"datetime\"][:-2]#.to_list()\n",
    "y = df[\"prix\"][:-2]#.to_list()\n",
    "\n",
    "plt.plot(x, y)\n",
    "plt.show() # affiche la figure a l'ecran"
   ]
  },
  {
   "cell_type": "code",
   "execution_count": 39,
   "metadata": {},
   "outputs": [
    {
     "name": "stdout",
     "output_type": "stream",
     "text": [
      "                                       resto            datetime   prix\n",
      "0                              SMATCH BURGER 2021-01-28 13:12:00  25.52\n",
      "1                              SMATCH BURGER 2021-01-21 20:25:00  21.07\n",
      "2                                      Kaiyō 2021-01-18 19:35:00  35.79\n",
      "3                            Sushi Muraguchi 2021-01-13 13:52:00  18.36\n",
      "4                              SMATCH BURGER 2020-12-31 21:29:00  21.07\n",
      "5                              SMATCH BURGER 2020-12-30 12:54:00  21.07\n",
      "6      Out-Fry 18 - Korean Chicken by Taster 2020-12-23 13:10:00  61.59\n",
      "7      Five Pizza Original - Kremlin-Bicetre 2020-12-21 23:02:00   9.84\n",
      "8                              SMATCH BURGER 2020-12-20 20:51:00  21.07\n",
      "9                                        Wan 2020-12-18 23:19:00  24.09\n",
      "10                             SMATCH BURGER 2020-12-13 12:34:00  17.24\n",
      "11                         Subway® - Tolbiac 2020-12-11 12:18:00  15.08\n",
      "12                 Bozen - Charenton-le-Pont 2020-12-02 14:15:00  21.08\n",
      "13                 Subway® - Kremlin-Bicêtre 2020-11-26 12:30:00  10.67\n",
      "14                          Aloy Thaï - Ivry 2020-11-12 21:01:00  28.77\n",
      "15                   Sushi Gourmet - Tolbiac 2020-11-03 15:06:00  18.38\n",
      "16               Original Burger and Poutine 2020-10-31 22:09:00  24.83\n",
      "17              Les Burgers de Papa - Alesia 2020-10-30 22:48:00  18.04\n",
      "18                          Aloy Thaï - Ivry 2020-10-24 23:20:00  17.83\n",
      "19                          Aloy Thaï - Ivry 2020-10-14 22:19:00  19.48\n",
      "20                                     Kaiyō 2020-10-10 23:26:00  27.34\n",
      "21                                     Kaiyō 2020-10-03 22:32:00  17.49\n",
      "22     Out-Fry 13 - Korean Chicken by Taster 2020-09-27 20:35:00  28.87\n",
      "23             Le Bon Poulet - Aubervilliers 2020-09-26 00:47:00  12.72\n",
      "24                                     Kaiyō 2020-09-19 22:53:00  15.00\n",
      "25             Subway® - Avenue des Gobelins 2020-09-15 00:34:00  16.18\n",
      "26                                       Wan 2020-09-13 22:50:00  18.09\n",
      "27                 Bozen - Charenton-le-Pont 2020-09-07 14:03:00  21.58\n",
      "28                 Subway® - Kremlin-Bicêtre 2020-09-02 20:31:00  13.31\n",
      "29                                       Wan 2020-08-26 17:06:00  18.59\n",
      "30     Out-Fry 13 - Korean Chicken by Taster 2020-08-23 16:34:00  16.12\n",
      "31                                       Wan 2020-08-19 16:54:00  13.09\n",
      "32                          Aloy Thaï - Ivry 2020-08-16 21:12:00  17.43\n",
      "33                          Aloy Thaï - Ivry 2020-08-13 22:18:00  14.68\n",
      "34                   Sushi Gourmet - Tolbiac 2020-08-11 15:10:00  21.29\n",
      "35                                       Wan 2020-08-08 14:27:00  13.09\n",
      "36                                       Wan 2020-08-03 17:06:00  15.40\n",
      "37                 Bozen - Charenton-le-Pont 2020-07-29 12:29:00  20.59\n",
      "38     Out-Fry 13 - Korean Chicken by Taster 2020-07-22 21:40:00  18.12\n",
      "39                 Bozen - Charenton-le-Pont 2020-07-20 14:45:00  20.59\n",
      "40                                       Wan 2020-07-15 16:47:00  24.09\n",
      "41                   PB Poulet Braisé - Ivry 2020-07-03 22:46:00  13.14\n",
      "42              Mak Chicken - Ivry-sur-Seine 2020-07-01 22:26:00  15.84\n",
      "43                                 Shinotaku 2020-06-29 13:58:00   0.00\n",
      "44                   PB Poulet Braisé - Ivry 2020-06-17 15:37:00  17.99\n",
      "45         Aloy Thaï - Ivry5 étoile(s) sur 5 2020-06-11 13:00:00  16.18\n",
      "46                    Kaiyō5 étoile(s) sur 5 2020-06-03 14:09:00  17.98\n",
      "47  PB Poulet Braisé - Ivry5 étoile(s) sur 5 2020-05-22 23:29:00  23.59\n",
      "48  PB Poulet Braisé - Ivry5 étoile(s) sur 5 2020-05-19 22:35:00  16.44\n",
      "49                                     Kaiyō 2020-05-15 12:50:00  22.49\n",
      "50         Aloy Thaï - Ivry5 étoile(s) sur 5 2020-05-11 22:47:00  29.37\n",
      "51         Aloy Thaï - Ivry5 étoile(s) sur 5 2020-04-29 22:32:00  18.90\n",
      "52         Aloy Thaï - Ivry5 étoile(s) sur 5 2020-04-22 22:32:00  21.90\n",
      "53                          Aloy Thaï - Ivry 2020-04-16 22:01:00  16.40\n",
      "54         Aloy Thaï - Ivry5 étoile(s) sur 5 2020-04-15 21:35:00  18.21\n",
      "55                             SMATCH BURGER 2020-04-11 22:56:00  13.90\n",
      "56                  Chick'end Café - Bagneux 2020-04-02 21:42:00   9.71\n",
      "57                      Afrik'n'fusion - 13e 2020-03-31 21:22:00  18.00\n",
      "58            SMATCH BURGER4 étoile(s) sur 5 2020-03-30 23:28:00  16.90\n",
      "59                          Pizza Hut - Ivry 2020-03-28 16:08:00  15.80\n",
      "60                          Pizza Hut - Ivry 2020-03-25 20:16:00  17.90\n",
      "61                      Afrik'n'fusion - 13e 2020-03-20 22:10:00   8.50\n",
      "62     Five Pizza Original - Kremlin-Bicetre 2020-03-14 22:59:00  16.00\n",
      "63                             SMATCH BURGER 2020-03-13 23:23:00  19.40\n",
      "64                                       Wan 2020-03-07 22:38:00  17.98\n",
      "65                                       Wan 2020-03-02 21:04:00  19.98\n",
      "66                               KFC - Okabe 2020-12-27 16:47:00  21.45\n",
      "67                          Burger And Grill 2020-12-10 16:15:00   0.00\n"
     ]
    }
   ],
   "source": [
    "with pd.option_context('display.max_rows', None, 'display.max_columns', None):  # more options can be specified also\n",
    "    print(df)"
   ]
  },
  {
   "cell_type": "code",
   "execution_count": null,
   "metadata": {},
   "outputs": [],
   "source": []
  }
 ],
 "metadata": {
  "kernelspec": {
   "display_name": "Python 3",
   "language": "python",
   "name": "python3"
  },
  "language_info": {
   "codemirror_mode": {
    "name": "ipython",
    "version": 3
   },
   "file_extension": ".py",
   "mimetype": "text/x-python",
   "name": "python",
   "nbconvert_exporter": "python",
   "pygments_lexer": "ipython3",
   "version": "3.8.5"
  }
 },
 "nbformat": 4,
 "nbformat_minor": 2
}
